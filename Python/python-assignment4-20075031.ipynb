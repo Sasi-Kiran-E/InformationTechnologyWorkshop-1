{
 "cells": [
  {
   "cell_type": "markdown",
   "id": "f8d156ed",
   "metadata": {},
   "source": [
    "#                               Python assignment 4\n",
    "\n",
    "####  Name - Essamaraju Sasi Kiran.\n",
    "####  Roll No - 20075031\n",
    "####  Batch id - BA1"
   ]
  },
  {
   "cell_type": "markdown",
   "id": "00c35569",
   "metadata": {},
   "source": [
    "#### 1. Write a python class to show how we can changes to the class variable in python. Also write a code to create an empty class."
   ]
  },
  {
   "cell_type": "code",
   "execution_count": 1,
   "id": "50658c32",
   "metadata": {},
   "outputs": [
    {
     "name": "stdout",
     "output_type": "stream",
     "text": [
      "before : Male\n",
      "after : Female\n"
     ]
    }
   ],
   "source": [
    "class People:\n",
    "    \n",
    "    gender = \"Male\"\n",
    "    \n",
    "print(\"before :\", People.gender)\n",
    "# changing the class variable.\n",
    "People.gender = \"Female\"\n",
    "print(\"after :\", People.gender)\n",
    "\n",
    "# creating an empty class.\n",
    "class cars:\n",
    "    pass"
   ]
  },
  {
   "cell_type": "markdown",
   "id": "e961a542",
   "metadata": {},
   "source": [
    "#### 2. Write a python class to convert Hexadecimal to Decimal using class creation."
   ]
  },
  {
   "cell_type": "code",
   "execution_count": 2,
   "id": "4915e2c9",
   "metadata": {},
   "outputs": [
    {
     "name": "stdout",
     "output_type": "stream",
     "text": [
      "Enter the hexadecimal value : C77\n",
      "3191\n"
     ]
    }
   ],
   "source": [
    "class HexToDec:\n",
    "    \n",
    "    def __init__(self, hexValue):\n",
    "        self.hexValue = hexValue\n",
    "    \n",
    "    def toDecimal(self):\n",
    "        return int(self.hexValue, 16)\n",
    "    \n",
    "hexadecimal = input(\"Enter the hexadecimal value : \")\n",
    "obj = HexToDec(hexadecimal)\n",
    "print(obj.toDecimal())"
   ]
  },
  {
   "cell_type": "markdown",
   "id": "4e34c73e",
   "metadata": {},
   "source": [
    "#### 3. Write a python class to check if a class is a subclass of another class or not"
   ]
  },
  {
   "cell_type": "code",
   "execution_count": 3,
   "id": "d2756f86",
   "metadata": {},
   "outputs": [
    {
     "name": "stdout",
     "output_type": "stream",
     "text": [
      "True\n",
      "False\n"
     ]
    }
   ],
   "source": [
    "class One:\n",
    "    pass\n",
    "\n",
    "class Two:\n",
    "    pass\n",
    "\n",
    "class Three(One):\n",
    "    pass\n",
    "\n",
    "print(issubclass(Three, One))\n",
    "print(issubclass(Two, One))"
   ]
  },
  {
   "cell_type": "markdown",
   "id": "9589dfc3",
   "metadata": {},
   "source": [
    "#### 4. Write a python class to access a member through super and parent class name."
   ]
  },
  {
   "cell_type": "code",
   "execution_count": 4,
   "id": "da0691e9",
   "metadata": {},
   "outputs": [
    {
     "name": "stdout",
     "output_type": "stream",
     "text": [
      "4\n",
      "4\n"
     ]
    }
   ],
   "source": [
    "class Car:\n",
    "    \n",
    "    seats = 4\n",
    "    \n",
    "class BMW(Car):\n",
    "    \n",
    "    def printInfo(self):\n",
    "        # accessing via parent class name.\n",
    "        print(Car.seats)\n",
    "        # accessing via super() method.\n",
    "        print(super().seats)\n",
    "        \n",
    "x7 = BMW()\n",
    "x7.printInfo()"
   ]
  },
  {
   "cell_type": "markdown",
   "id": "75db6c68",
   "metadata": {},
   "source": [
    "#### 5. Write a Python class named Rectangle constructed by a length and width and a method which will compute the area of a rectangle."
   ]
  },
  {
   "cell_type": "code",
   "execution_count": 5,
   "id": "172ffdf7",
   "metadata": {},
   "outputs": [
    {
     "name": "stdout",
     "output_type": "stream",
     "text": [
      "Enter length : 10\n",
      "Enter width : 24\n",
      "240\n"
     ]
    }
   ],
   "source": [
    "class Rectangle:\n",
    "    \n",
    "    def __init__(self, length, width):\n",
    "        self.length = length\n",
    "        self.width = width\n",
    "        \n",
    "    def area(self):\n",
    "        return self.length * self.width\n",
    "    \n",
    "l = int(input(\"Enter length : \"))\n",
    "b = int(input(\"Enter width : \"))\n",
    "rectangle1 = Rectangle(l, b)\n",
    "print(rectangle1.area())"
   ]
  },
  {
   "cell_type": "markdown",
   "id": "1c717d9c",
   "metadata": {},
   "source": [
    "#### 6. Write a Python class to reverse a string word by word."
   ]
  },
  {
   "cell_type": "code",
   "execution_count": 6,
   "id": "f1b9cbe8",
   "metadata": {},
   "outputs": [
    {
     "name": "stdout",
     "output_type": "stream",
     "text": [
      "Enter a string : python itw1\n",
      "itw1 python\n"
     ]
    }
   ],
   "source": [
    "class StringManipulation:\n",
    "    \n",
    "    def __init__(self, s):\n",
    "        self.string = s\n",
    "        \n",
    "    def reverseByWord(self):\n",
    "        words = self.string.split()\n",
    "        return ' '.join(words[::-1])\n",
    "    \n",
    "sample = input(\"Enter a string : \")\n",
    "sentence1 = StringManipulation(sample)\n",
    "print(sentence1.reverseByWord())"
   ]
  },
  {
   "cell_type": "markdown",
   "id": "b2cdf216",
   "metadata": {},
   "source": [
    "#### 7. Write a Python class to find the three elements that sum to zero from a set of n real numbers."
   ]
  },
  {
   "cell_type": "code",
   "execution_count": 7,
   "id": "30618537",
   "metadata": {},
   "outputs": [
    {
     "name": "stdout",
     "output_type": "stream",
     "text": [
      "Enter the values : -25 -10 -7 -3 2 4 8 10\n",
      "[[-10, 2, 8], [-7, -3, 10]]\n"
     ]
    }
   ],
   "source": [
    "class Numbers:\n",
    "    \n",
    "    def findTriplets(self, values):\n",
    "        n = len(values)\n",
    "        tripletsList = []\n",
    "        for i in range(0, n - 1):\n",
    "            l = i + 1\n",
    "            r = n - 1\n",
    "            x = values[i]\n",
    "            while l < r:\n",
    "                if values[l] + values[r] + x == 0:\n",
    "                    tripletsList.append([x, values[l], values[r]])\n",
    "                    l += 1\n",
    "                    r -= 1\n",
    "                elif values[l] + values[r] + x < 0:\n",
    "                    l += 1\n",
    "                else:\n",
    "                    r -= 1\n",
    "        return tripletsList\n",
    "    \n",
    "    \n",
    "lst = [int(a) for a in input(\"Enter the values : \").split()]\n",
    "obj = Numbers()\n",
    "print(obj.findTriplets(lst))\n",
    "                \n",
    "                "
   ]
  },
  {
   "cell_type": "markdown",
   "id": "6a357f88",
   "metadata": {},
   "source": [
    "#### 8. Write a Python class to find a pair of elements (indices of the two numbers) from a given array whose sum equals a specific target number."
   ]
  },
  {
   "cell_type": "code",
   "execution_count": 8,
   "id": "bba30807",
   "metadata": {},
   "outputs": [
    {
     "name": "stdout",
     "output_type": "stream",
     "text": [
      "Enter the numbers : 10 20 10 40 50 60 70\n",
      "Enter the target : 50\n",
      "(0, 3)\n"
     ]
    }
   ],
   "source": [
    "class Numbers:\n",
    "    \n",
    "    def __init__(self, values):\n",
    "        self.data = values\n",
    "        \n",
    "    def findPair(self, target):\n",
    "        \n",
    "        for i in range(len(self.data)):\n",
    "            for j in range(i + 1, len(self.data)):\n",
    "                if self.data[i] + self.data[j] == target:\n",
    "                    return i, j\n",
    "        \n",
    "        return \"No such pair found\"\n",
    "        \n",
    "            \n",
    "            \n",
    "lst = [int(a) for a in input(\"Enter the numbers : \").split()]\n",
    "target = int(input(\"Enter the target : \"))\n",
    "\n",
    "list1 = Numbers(lst)\n",
    "print(list1.findPair(target))\n"
   ]
  },
  {
   "cell_type": "markdown",
   "id": "244f4e9d",
   "metadata": {},
   "source": [
    "#### 9. Write a NumPy program to sort a given array of shape 2 along the first axis, last axis and on flattened array."
   ]
  },
  {
   "cell_type": "code",
   "execution_count": 9,
   "id": "3250cf83",
   "metadata": {},
   "outputs": [
    {
     "name": "stdout",
     "output_type": "stream",
     "text": [
      "sorting along first axis :\n",
      " [[10 20]\n",
      " [30 40]]\n",
      "sorting along first axis :\n",
      " [[10 40]\n",
      " [20 30]]\n",
      "sorting on flattened array :\n",
      " [10 20 30 40]\n"
     ]
    }
   ],
   "source": [
    "import numpy as np\n",
    "\n",
    "a = np.array([[10, 40], [30, 20]])\n",
    "\n",
    "print(\"sorting along first axis :\\n\", np.sort(a, axis= 0))\n",
    "print(\"sorting along first axis :\\n\", np.sort(a, axis= 1))\n",
    "print(\"sorting on flattened array :\\n\", np.sort(a.flatten()))\n"
   ]
  },
  {
   "cell_type": "markdown",
   "id": "cf14a8f8",
   "metadata": {},
   "source": [
    "#### 10. Write a NumPy program to compute the trigonometric sine, cosine and tangent array of angles given in degrees."
   ]
  },
  {
   "cell_type": "code",
   "execution_count": 10,
   "id": "f14af220",
   "metadata": {},
   "outputs": [
    {
     "name": "stdout",
     "output_type": "stream",
     "text": [
      "sine : [0.         0.5        0.70710678 0.8660254  1.        ]\n",
      "cosine : [1.00000000e+00 8.66025404e-01 7.07106781e-01 5.00000000e-01\n",
      " 6.12323400e-17]\n",
      "tangent : [0.00000000e+00 5.77350269e-01 1.00000000e+00 1.73205081e+00\n",
      " 1.63312394e+16]\n"
     ]
    }
   ],
   "source": [
    "import numpy as np\n",
    "\n",
    "angles = np.array([0, 30, 45, 60, 90])\n",
    "print(\"sine :\", np.sin(np.deg2rad(angles)))\n",
    "print(\"cosine :\", np.cos(np.deg2rad(angles)))\n",
    "print(\"tangent :\", np.tan(np.deg2rad(angles)))\n"
   ]
  },
  {
   "cell_type": "markdown",
   "id": "057403fd",
   "metadata": {},
   "source": [
    "#### 11. Write a NumPy program compute the sum of the diagonal element of a given array."
   ]
  },
  {
   "cell_type": "code",
   "execution_count": 11,
   "id": "f605ca83",
   "metadata": {},
   "outputs": [
    {
     "name": "stdout",
     "output_type": "stream",
     "text": [
      "4\n"
     ]
    }
   ],
   "source": [
    "import numpy as np\n",
    "\n",
    "a = np.array([[0, 1, 2], [3, 4, 5]])\n",
    "print(np.trace(a))"
   ]
  },
  {
   "cell_type": "markdown",
   "id": "447c339c",
   "metadata": {},
   "source": [
    "#### 12. Write a NumPy program to create a 2d array with 1 on the border and 0 inside."
   ]
  },
  {
   "cell_type": "code",
   "execution_count": 12,
   "id": "d8bc1fe9",
   "metadata": {},
   "outputs": [
    {
     "name": "stdout",
     "output_type": "stream",
     "text": [
      "Enter the shape of 2d array : 5 5\n",
      "array with border with 1 and 0 inside :\n",
      "[[1. 1. 1. 1. 1.]\n",
      " [1. 0. 0. 0. 1.]\n",
      " [1. 0. 0. 0. 1.]\n",
      " [1. 0. 0. 0. 1.]\n",
      " [1. 1. 1. 1. 1.]]\n"
     ]
    }
   ],
   "source": [
    "import numpy as np\n",
    "\n",
    "r, c = [int(a) for a in input(\"Enter the shape of 2d array : \").split()]\n",
    "\n",
    "m = np.ones(shape= (r, c))\n",
    "m[1:-1, 1:-1] = 0\n",
    "print(\"array with border with 1 and 0 inside :\")\n",
    "print(m)"
   ]
  },
  {
   "cell_type": "markdown",
   "id": "c8b3da23",
   "metadata": {},
   "source": [
    "#### 13. Write a NumPy program to find the number of elements of an array, length of one array element in bytes and total bytes consumed by the elements."
   ]
  },
  {
   "cell_type": "code",
   "execution_count": 13,
   "id": "f4db1f6c",
   "metadata": {},
   "outputs": [
    {
     "name": "stdout",
     "output_type": "stream",
     "text": [
      "Size of the array : 5\n",
      "Size of one element in bytes : 8\n",
      "Total bytes consumed by array : 40\n"
     ]
    }
   ],
   "source": [
    "import numpy as np\n",
    "\n",
    "a = np.array([4, 6, 9.3, 10.4, 3.23])\n",
    "print(\"Size of the array :\", a.size)\n",
    "print(\"Size of one element in bytes :\", a.itemsize)\n",
    "print(\"Total bytes consumed by array :\", a.nbytes)"
   ]
  },
  {
   "cell_type": "markdown",
   "id": "8e14ca5c",
   "metadata": {},
   "source": [
    "#### 14. Write a NumPy program to create a record array from a (flat) list of arrays. Example: Arrays: [1,2,3,4], ['Red', 'Green', 'White', 'Orange'], [12.20,15,20,40] Expected Output: (1, 'Red', 12.2) (2, 'Green', 15.0) (3, 'White', 20.0)"
   ]
  },
  {
   "cell_type": "code",
   "execution_count": 14,
   "id": "9cac2082",
   "metadata": {},
   "outputs": [
    {
     "name": "stdout",
     "output_type": "stream",
     "text": [
      "(1, 'Red', 12.2)\n",
      "(2, 'Green', 15.)\n",
      "(3, 'White', 20.)\n",
      "(4, 'Orange', 40.)\n"
     ]
    }
   ],
   "source": [
    "import numpy as np\n",
    "\n",
    "a1 = np.array([1, 2, 3, 4])\n",
    "a2 = np.array(['Red', 'Green', 'White', 'Orange'])\n",
    "a3 = np.array([12.20, 15, 20, 40])\n",
    "\n",
    "recordArray = np.core.records.fromarrays([a1, a2, a3])\n",
    "for i in recordArray:\n",
    "    print(i)"
   ]
  },
  {
   "cell_type": "markdown",
   "id": "c31301fa",
   "metadata": {},
   "source": [
    "#### 15. Write a NumPy program to take values from a source array and put them at specified indices of another array."
   ]
  },
  {
   "cell_type": "code",
   "execution_count": 15,
   "id": "e203b0d7",
   "metadata": {},
   "outputs": [
    {
     "name": "stdout",
     "output_type": "stream",
     "text": [
      "Before : [10 10 20 30 30]\n",
      "After : [ 0 10 20 30 40]\n"
     ]
    }
   ],
   "source": [
    "import numpy as np\n",
    "\n",
    "a = np.array([10, 10, 20, 30, 30])\n",
    "print(\"Before :\", a)\n",
    "b = np.array([0, 40])\n",
    "\n",
    "a.put([0, a.size - 1], b)    # putting values in b at first and last index in a respectively.\n",
    "print(\"After :\", a)\n"
   ]
  },
  {
   "cell_type": "markdown",
   "id": "ebcbdf4d",
   "metadata": {},
   "source": [
    "#### 16. Write a Pandas program to add, subtract, multiple and divide two Pandas Series."
   ]
  },
  {
   "cell_type": "code",
   "execution_count": 16,
   "id": "5a49bbdc",
   "metadata": {},
   "outputs": [
    {
     "name": "stdout",
     "output_type": "stream",
     "text": [
      "Add : [3, 7, 11, 15, 19]\n",
      "Subtract : [1, 1, 1, 1, 1]\n",
      "Multiply : [2, 12, 30, 56, 90]\n",
      "Divide : [2.0, 1.3333333333333333, 1.2, 1.1428571428571428, 1.1111111111111112]\n"
     ]
    }
   ],
   "source": [
    "import pandas as pd\n",
    "\n",
    "series1 = pd.Series([2, 4, 6, 8, 10])\n",
    "series2 = pd.Series([1, 3, 5, 7, 9])\n",
    "\n",
    "print(\"Add :\", list(series1 + series2))\n",
    "print(\"Subtract :\", list(series1 - series2))\n",
    "print(\"Multiply :\", list(series1 * series2))\n",
    "print(\"Divide :\", list(series1 / series2))"
   ]
  },
  {
   "cell_type": "markdown",
   "id": "5be621b1",
   "metadata": {},
   "source": [
    "#### 17. Write a Python program to convert a NumPy array to a Pandas series."
   ]
  },
  {
   "cell_type": "code",
   "execution_count": 17,
   "id": "5ecbe64a",
   "metadata": {},
   "outputs": [
    {
     "name": "stdout",
     "output_type": "stream",
     "text": [
      "0     3\n",
      "1    89\n",
      "2    45\n",
      "3    12\n",
      "dtype: int32\n"
     ]
    }
   ],
   "source": [
    "import numpy as np\n",
    "import pandas as pd\n",
    "\n",
    "arr = np.array([3, 89, 45, 12])\n",
    "\n",
    "# converting to pandas series.\n",
    "\n",
    "series1 = pd.Series(arr)\n",
    "print(series1)"
   ]
  },
  {
   "cell_type": "markdown",
   "id": "cdeab7d8",
   "metadata": {},
   "source": [
    "#### 18. Write a Pandas program to get the powers of an array values element-wise. Note: First array elements raised to powers from second array\n",
    "#### Sample data: {'X':[78,85,96,80,86], 'Y':[84,94,89,83,86],'Z':[86,97,96,72,83]}\n",
    "#### Expected Output:\n",
    "##### X Y Z\n",
    "##### 0 78 84 86\n",
    "##### 1 85 94 97\n",
    "##### 2 96 89 96\n",
    "##### 3 80 83 72\n",
    "##### 4 86 86 83"
   ]
  },
  {
   "cell_type": "code",
   "execution_count": 18,
   "id": "93cda966",
   "metadata": {},
   "outputs": [
    {
     "name": "stdout",
     "output_type": "stream",
     "text": [
      "    x   y   z\n",
      "0  78  84  86\n",
      "1  85  94  97\n",
      "2  96  89  96\n",
      "3  80  83  72\n",
      "4  86  86  83\n"
     ]
    }
   ],
   "source": [
    "import pandas as pd\n",
    "\n",
    "sampleData = {\n",
    "    'x' : [78, 85, 96, 80, 86],\n",
    "    'y' : [84, 94, 89, 83, 86],\n",
    "    'z' : [86, 97, 96, 72, 83]\n",
    "}\n",
    "\n",
    "df = pd.DataFrame(sampleData)\n",
    "print(df)\n"
   ]
  },
  {
   "cell_type": "markdown",
   "id": "250f83c8",
   "metadata": {},
   "source": [
    "#### 19. Write a Pandas program to create and display a DataFrame from a specified dictionary data which has the index labels."
   ]
  },
  {
   "cell_type": "code",
   "execution_count": 19,
   "id": "226eb4f6",
   "metadata": {},
   "outputs": [
    {
     "name": "stdout",
     "output_type": "stream",
     "text": [
      "        name  score  attempts qualify\n",
      "a  Anastasia   12.5         1     yes\n",
      "b       Dima    9.0         3      no\n",
      "c  Katherine   16.5         2     yes\n",
      "d      James    NaN         3      no\n",
      "e      Emily    9.0         2      no\n",
      "f    Michael   20.0         3     yes\n",
      "g    Matthew   14.5         1     yes\n",
      "h      Laura    NaN         1      no\n",
      "i      Kevin    8.0         2      no\n",
      "j      Jonas   19.0         1     yes\n"
     ]
    }
   ],
   "source": [
    "import pandas as pd\n",
    "\n",
    "exam_data = {'name': ['Anastasia', 'Dima', 'Katherine', 'James', 'Emily', 'Michael', 'Matthew', 'Laura', 'Kevin', 'Jonas'],\n",
    "             'score': [12.5, 9, 16.5, np.nan, 9, 20, 14.5, np.nan, 8, 19],\n",
    "             'attempts': [1, 3, 2, 3, 2, 3, 1, 1, 2, 1],\n",
    "             'qualify': ['yes', 'no', 'yes', 'no', 'no', 'yes', 'yes', 'no', 'no', 'yes']\n",
    "            }\n",
    "\n",
    "labels = ['a', 'b', 'c', 'd', 'e', 'f', 'g', 'h', 'i', 'j']\n",
    "\n",
    "sampleDf = pd.DataFrame(exam_data, index= labels)\n",
    "print(sampleDf)"
   ]
  },
  {
   "cell_type": "markdown",
   "id": "81df6a4b",
   "metadata": {},
   "source": [
    "#### 20. Write a Pandas program to get the first 3 rows of a given DataFrame."
   ]
  },
  {
   "cell_type": "code",
   "execution_count": 20,
   "id": "e0ed12c5",
   "metadata": {},
   "outputs": [
    {
     "name": "stdout",
     "output_type": "stream",
     "text": [
      "        name  score  attempts qualify\n",
      "a  Anastasia   12.5         1     yes\n",
      "b       Dima    9.0         3      no\n",
      "c  Katherine   16.5         2     yes\n"
     ]
    }
   ],
   "source": [
    "import pandas as pd\n",
    "\n",
    "exam_data = {'name': ['Anastasia', 'Dima', 'Katherine', 'James', 'Emily', 'Michael', 'Matthew', 'Laura', 'Kevin', 'Jonas'],\n",
    "             'score': [12.5, 9, 16.5, np.nan, 9, 20, 14.5, np.nan, 8, 19],\n",
    "             'attempts': [1, 3, 2, 3, 2, 3, 1, 1, 2, 1],\n",
    "             'qualify': ['yes', 'no', 'yes', 'no', 'no', 'yes', 'yes', 'no', 'no', 'yes']\n",
    "            }\n",
    "\n",
    "labels = ['a', 'b', 'c', 'd', 'e', 'f', 'g', 'h', 'i', 'j']\n",
    "\n",
    "sampleDf = pd.DataFrame(exam_data, index= labels)\n",
    "\n",
    "print(sampleDf.head(3))"
   ]
  },
  {
   "cell_type": "markdown",
   "id": "1ed4b3a0",
   "metadata": {},
   "source": [
    "#### 21. Write a Pandas program to select the rows where the score is missing, i.e. is NaN."
   ]
  },
  {
   "cell_type": "code",
   "execution_count": 21,
   "id": "5064e777",
   "metadata": {},
   "outputs": [
    {
     "name": "stdout",
     "output_type": "stream",
     "text": [
      "Rows where score is missing : \n",
      "     name  score  attempts qualify\n",
      "d  James    NaN         3      no\n",
      "h  Laura    NaN         1      no\n"
     ]
    }
   ],
   "source": [
    "import pandas as pd\n",
    "\n",
    "exam_data = {'name': ['Anastasia', 'Dima', 'Katherine', 'James', 'Emily', 'Michael', 'Matthew', 'Laura', 'Kevin', 'Jonas'],\n",
    "             'score': [12.5, 9, 16.5, np.nan, 9, 20, 14.5, np.nan, 8, 19],\n",
    "             'attempts': [1, 3, 2, 3, 2, 3, 1, 1, 2, 1],\n",
    "             'qualify': ['yes', 'no', 'yes', 'no', 'no', 'yes', 'yes', 'no', 'no', 'yes']\n",
    "            }\n",
    "\n",
    "labels = ['a', 'b', 'c', 'd', 'e', 'f', 'g', 'h', 'i', 'j']\n",
    "\n",
    "sampleDf = pd.DataFrame(exam_data, index= labels)\n",
    "\n",
    "print(\"Rows where score is missing : \\n\", sampleDf[sampleDf[\"score\"].isnull()])"
   ]
  },
  {
   "cell_type": "markdown",
   "id": "d3473a78",
   "metadata": {},
   "source": [
    "#### 22. Write a Pandas program to select the rows the score is between 15 and 20 (inclusive)."
   ]
  },
  {
   "cell_type": "code",
   "execution_count": 22,
   "id": "849d65c2",
   "metadata": {},
   "outputs": [
    {
     "name": "stdout",
     "output_type": "stream",
     "text": [
      "Rows where score is between 15 and 20 (inclusive) :\n",
      "        name  score  attempts qualify\n",
      "c  Katherine   16.5         2     yes\n",
      "f    Michael   20.0         3     yes\n",
      "j      Jonas   19.0         1     yes\n"
     ]
    }
   ],
   "source": [
    "import pandas as pd\n",
    "\n",
    "exam_data = {'name': ['Anastasia', 'Dima', 'Katherine', 'James', 'Emily', 'Michael', 'Matthew', 'Laura', 'Kevin', 'Jonas'],\n",
    "             'score': [12.5, 9, 16.5, np.nan, 9, 20, 14.5, np.nan, 8, 19],\n",
    "             'attempts': [1, 3, 2, 3, 2, 3, 1, 1, 2, 1],\n",
    "             'qualify': ['yes', 'no', 'yes', 'no', 'no', 'yes', 'yes', 'no', 'no', 'yes']\n",
    "            }\n",
    "\n",
    "labels = ['a', 'b', 'c', 'd', 'e', 'f', 'g', 'h', 'i', 'j']\n",
    "\n",
    "sampleDf = pd.DataFrame(exam_data, index= labels)\n",
    "\n",
    "print(\"Rows where score is between 15 and 20 (inclusive) :\")\n",
    "print(sampleDf[(sampleDf[\"score\"] >= 15) & (sampleDf[\"score\"] <= 20)])"
   ]
  },
  {
   "cell_type": "markdown",
   "id": "4b760e2b",
   "metadata": {},
   "source": [
    "#### 23. Write a Pandas program to select the rows where number of attempts in the examination is less than 2 and score greater than 15."
   ]
  },
  {
   "cell_type": "code",
   "execution_count": 23,
   "id": "2d4ebebf",
   "metadata": {},
   "outputs": [
    {
     "name": "stdout",
     "output_type": "stream",
     "text": [
      "Rows where no of attempts < 2 and score > 15 : \n",
      "    name  score  attempts qualify\n",
      "j  Jonas   19.0         1     yes\n"
     ]
    }
   ],
   "source": [
    "import pandas as pd\n",
    "\n",
    "exam_data = {'name': ['Anastasia', 'Dima', 'Katherine', 'James', 'Emily', 'Michael', 'Matthew', 'Laura', 'Kevin', 'Jonas'],\n",
    "             'score': [12.5, 9, 16.5, np.nan, 9, 20, 14.5, np.nan, 8, 19],\n",
    "             'attempts': [1, 3, 2, 3, 2, 3, 1, 1, 2, 1],\n",
    "             'qualify': ['yes', 'no', 'yes', 'no', 'no', 'yes', 'yes', 'no', 'no', 'yes']\n",
    "            }\n",
    "\n",
    "labels = ['a', 'b', 'c', 'd', 'e', 'f', 'g', 'h', 'i', 'j']\n",
    "\n",
    "sampleDf = pd.DataFrame(exam_data, index= labels)\n",
    "\n",
    "print(\"Rows where no of attempts < 2 and score > 15 : \")\n",
    "print(sampleDf[(sampleDf['attempts'] < 2) & (sampleDf['score'] > 15)])"
   ]
  },
  {
   "cell_type": "markdown",
   "id": "7b5c806c",
   "metadata": {},
   "source": [
    "#### 24. Write python program to plot histogram, bar chart, line graph, scatter graph for some sample data."
   ]
  },
  {
   "cell_type": "code",
   "execution_count": 24,
   "id": "aa0b1930",
   "metadata": {},
   "outputs": [
    {
     "data": {
      "image/png": "[encoded data removed]",
      "text/plain": [
       "<Figure size 432x288 with 1 Axes>"
      ]
     },
     "metadata": {
      "needs_background": "light"
     },
     "output_type": "display_data"
    }
   ],
   "source": [
    "from matplotlib import pyplot as plt\n",
    "\n",
    "values = [1, 2, 3, 4, 5]\n",
    "frequencies = [4, 7, 1, 2, 8]\n",
    "\n",
    "plt.plot(values, frequencies, color= 'blue')\n",
    "\n",
    "plt.title(\"line graph\")\n",
    "\n",
    "plt.xlabel(\"values\")\n",
    "plt.ylabel(\"frequencies\")\n",
    "\n",
    "plt.show()\n"
   ]
  },
  {
   "cell_type": "code",
   "execution_count": 25,
   "id": "ff513702",
   "metadata": {},
   "outputs": [
    {
     "data": {
      "image/png": "[encoded data removed]",
      "text/plain": [
       "<Figure size 432x288 with 1 Axes>"
      ]
     },
     "metadata": {
      "needs_background": "light"
     },
     "output_type": "display_data"
    }
   ],
   "source": [
    "plt.scatter(values, frequencies, color= 'red')\n",
    "\n",
    "plt.title(\"scatter graph\")\n",
    "\n",
    "plt.xlabel(\"values\")\n",
    "plt.ylabel(\"frequencies\")\n",
    "\n",
    "plt.show()\n"
   ]
  },
  {
   "cell_type": "code",
   "execution_count": 26,
   "id": "52b8f9e6",
   "metadata": {},
   "outputs": [
    {
     "data": {
      "image/png": "[encoded data removed]",
      "text/plain": [
       "<Figure size 432x288 with 1 Axes>"
      ]
     },
     "metadata": {
      "needs_background": "light"
     },
     "output_type": "display_data"
    }
   ],
   "source": [
    "plt.bar(values, frequencies, width = 0.5, color = 'violet')\n",
    "\n",
    "plt.xlabel(\"values\")\n",
    "plt.ylabel(\"frequencies\")\n",
    "\n",
    "plt.title(\"bar chart\")\n",
    "\n",
    "plt.show()\n"
   ]
  },
  {
   "cell_type": "code",
   "execution_count": 27,
   "id": "71429c20",
   "metadata": {},
   "outputs": [
    {
     "data": {
      "image/png": "[encoded data removed]",
      "text/plain": [
       "<Figure size 432x288 with 1 Axes>"
      ]
     },
     "metadata": {
      "needs_background": "light"
     },
     "output_type": "display_data"
    }
   ],
   "source": [
    "data = [1, 1, 4, 5, 2, 5, 9, 12, 45, 35, 36, 23, 13, 14, 28]\n",
    "\n",
    "plt.hist(data, [1, 10, 20, 30, 40, 50], rwidth = 0.5, color = 'orange')\n",
    "\n",
    "plt.title(\"histogram\")\n",
    "\n",
    "plt.show()"
   ]
  },
  {
   "cell_type": "markdown",
   "id": "6ae4ec5e",
   "metadata": {},
   "source": [
    "#### 25. Write a python program to handle exception error using try and except, else, finally, and raise with in a single program.\n",
    "#### Example: Program using function which returns a/b, like c = ((a+b) / (a-b))."
   ]
  },
  {
   "cell_type": "code",
   "execution_count": 28,
   "id": "db7257e1",
   "metadata": {},
   "outputs": [
    {
     "name": "stdout",
     "output_type": "stream",
     "text": [
      "Give valid input\n",
      "finished\n",
      "None\n"
     ]
    }
   ],
   "source": [
    "def divider(a, b):\n",
    "    \n",
    "    if a == b:\n",
    "        raise ZeroDivisionError(\"cannot divide with zero\")\n",
    "    \n",
    "    else:\n",
    "        try:\n",
    "            ans = (a + b) / (a - b)\n",
    "            return ans\n",
    "        \n",
    "        except TypeError:\n",
    "            print(\"Give valid input\")\n",
    "            \n",
    "        finally:\n",
    "            print(\"finished\")\n",
    "        \n",
    "        \n",
    "result = divider(19, 'a')\n",
    "print(result)\n",
    "        "
   ]
  }
 ],
 "metadata": {
  "kernelspec": {
   "display_name": "Python 3",
   "language": "python",
   "name": "python3"
  },
  "language_info": {
   "codemirror_mode": {
    "name": "ipython",
    "version": 3
   },
   "file_extension": ".py",
   "mimetype": "text/x-python",
   "name": "python",
   "nbconvert_exporter": "python",
   "pygments_lexer": "ipython3",
   "version": "3.9.6"
  }
 },
 "nbformat": 4,
 "nbformat_minor": 5
}
